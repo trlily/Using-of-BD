{
 "cells": [
  {
   "cell_type": "code",
   "execution_count": 8,
   "id": "fff22de9-43a2-467e-8ac2-f2701149b60e",
   "metadata": {},
   "outputs": [],
   "source": [
    "#open API : open data를 누구나 사용할 수 있도록 제공되는 표준화된 API"
   ]
  },
  {
   "cell_type": "code",
   "execution_count": 9,
   "id": "97f5f962-91b1-4b0e-8637-5d8e8ebd84e3",
   "metadata": {},
   "outputs": [],
   "source": [
    "#API : 내 application <--호출-- 다른 applicaion \n",
    "\n",
    "#API 호출 : URL & 함수 & 파라미터 요청\n",
    "\n",
    "#API 제공방식 : REST방식으로 가장 많이 제공된다\n",
    "\n",
    "#REST : 웹서비스를 제공하는 아키텍쳐\n",
    "#HTTP method(함수) 활용하여 사용\n",
    "#            1) 다양한 DATA 형식 (JSON & XML 등등) -> 필기본 확인\n",
    "#            2) 간편\n",
    "# <-> SOAP : 1) XML형식의 메세지 \n",
    "#            2) 보안이 요구되는 환경"
   ]
  },
  {
   "cell_type": "code",
   "execution_count": 10,
   "id": "45d6b00b-9ef2-4cd2-9439-5bcb75d5eecb",
   "metadata": {},
   "outputs": [],
   "source": [
    "#application : 특정한 작업을 수행하거나 문제를 해결하기 위해 개발된 소프트웨어\n",
    "\n",
    "#ex) 웹 브라우저, 모바일 어플 등등"
   ]
  },
  {
   "cell_type": "markdown",
   "id": "5282a23f-3b25-4f53-b754-067a97cc0da5",
   "metadata": {},
   "source": []
  },
  {
   "cell_type": "raw",
   "id": "f2e046f5-fce2-440b-a712-a52cc22b62f1",
   "metadata": {},
   "source": []
  },
  {
   "cell_type": "code",
   "execution_count": 11,
   "id": "da3f21da-007e-4de5-80f9-76aff5e31982",
   "metadata": {},
   "outputs": [
    {
     "name": "stdout",
     "output_type": "stream",
     "text": [
      "{\n",
      "  \"origin\": \"203.237.172.117\"\n",
      "}\n"
     ]
    },
    {
     "name": "stderr",
     "output_type": "stream",
     "text": [
      "  % Total    % Received % Xferd  Average Speed   Time    Time     Time  Current\n",
      "                                 Dload  Upload   Total   Spent    Left  Speed\n",
      "\n",
      "  0     0    0     0    0     0      0      0 --:--:-- --:--:-- --:--:--     0\n",
      "  0     0    0     0    0     0      0      0 --:--:-- --:--:-- --:--:--     0\n",
      "100    34  100    34    0     0     75      0 --:--:-- --:--:-- --:--:--    75\n"
     ]
    }
   ],
   "source": [
    "!curl http://httpbin.org/ip\n",
    "#현재의 IP주소를 돌려줌"
   ]
  },
  {
   "cell_type": "code",
   "execution_count": 12,
   "id": "2dc8d026-b622-4f15-a218-8d20368d8d68",
   "metadata": {},
   "outputs": [
    {
     "name": "stdout",
     "output_type": "stream",
     "text": [
      "{\n",
      "  \"args\": {}, \n",
      "  \"headers\": {\n",
      "    \"Accept\": \"*/*\", \n",
      "    \"Host\": \"httpbin.org\", \n",
      "    \"User-Agent\": \"curl/7.82.0\", \n",
      "    \"X-Amzn-Trace-Id\": \"Root=1-66f4e8ff-798472f77f2e4c3510d52572\"\n",
      "  }, \n",
      "  \"origin\": \"203.237.172.117\", \n",
      "  \"url\": \"http://httpbin.org/get\"\n",
      "}\n"
     ]
    },
    {
     "name": "stderr",
     "output_type": "stream",
     "text": [
      "  % Total    % Received % Xferd  Average Speed   Time    Time     Time  Current\n",
      "                                 Dload  Upload   Total   Spent    Left  Speed\n",
      "\n",
      "  0     0    0     0    0     0      0      0 --:--:-- --:--:-- --:--:--     0\n",
      "100   256  100   256    0     0    593      0 --:--:-- --:--:-- --:--:--   593\n"
     ]
    }
   ],
   "source": [
    "!curl http://httpbin.org/get\n",
    "#IP를 http response로 돌려준다 "
   ]
  },
  {
   "cell_type": "markdown",
   "id": "9f37ac1f-fe44-45d1-b09c-317c6f68d90d",
   "metadata": {},
   "source": [
    "현재 자신의 IP 주소를 확인하는 요청\n",
    "\n",
    "VS\n",
    "\n",
    "args: 쿼리 파라미터 (URL에 포함된 추가 정보).\n",
    "headers: 요청에 담긴 메타데이터(클라이언트 정보, 서버 정보 등).\n",
    "origin: 사용자의 IP 주소.\n",
    "url: 요청이 보내진 URL."
   ]
  },
  {
   "cell_type": "code",
   "execution_count": null,
   "id": "1a77ce95-e0d1-40c3-a38e-c9475252b590",
   "metadata": {},
   "outputs": [],
   "source": []
  },
  {
   "cell_type": "code",
   "execution_count": null,
   "id": "78656d87-fce5-43cd-8549-9673b42b2a2f",
   "metadata": {},
   "outputs": [],
   "source": []
  },
  {
   "cell_type": "code",
   "execution_count": 15,
   "id": "936d12eb-007f-41bb-a96f-3f53dad01dbe",
   "metadata": {},
   "outputs": [],
   "source": [
    "#쿼리 파라미터를 추가하여 요청을 보내는 것\n",
    "# \"args\": {\"myname\": \"'js'\"} 부분이 추가\n",
    "# URL에 포함된 쿼리 파라미터를 서버가 파싱(번역기의 역할)해서 응답에 포함시킨 것 \n",
    "#   -> 쿼리 파라미터 값을 서버에 전달했다는 의미이다\n",
    "#   -> 이 (쿼리파라미터를 이용하여 전달된)data에 따라서 서버의 동작/응답이 바뀔 수 있다\n",
    "# 그 결과 서버는 요청에 포함된 쿼리 파라미터를 응답에 반영해주며, args 부분에 그 값이 나타난다"
   ]
  },
  {
   "cell_type": "code",
   "execution_count": 16,
   "id": "8c6f2abf-3711-44a2-ae88-d0309e4a1704",
   "metadata": {},
   "outputs": [
    {
     "name": "stdout",
     "output_type": "stream",
     "text": [
      "{\n",
      "  \"args\": {\n",
      "    \"myname\": \"'js'\"\n",
      "  }, \n",
      "  \"headers\": {\n",
      "    \"Accept\": \"*/*\", \n",
      "    \"Host\": \"httpbin.org\", \n",
      "    \"User-Agent\": \"curl/7.82.0\", \n",
      "    \"X-Amzn-Trace-Id\": \"Root=1-66f4eb1b-5cb7ebee223dd2a5631b54e6\"\n",
      "  }, \n",
      "  \"origin\": \"203.237.172.117\", \n",
      "  \"url\": \"http://httpbin.org/get?myname='js'\"\n",
      "}\n"
     ]
    },
    {
     "name": "stderr",
     "output_type": "stream",
     "text": [
      "  % Total    % Received % Xferd  Average Speed   Time    Time     Time  Current\n",
      "                                 Dload  Upload   Total   Spent    Left  Speed\n",
      "\n",
      "  0     0    0     0    0     0      0      0 --:--:-- --:--:-- --:--:--     0\n",
      "100   292  100   292    0     0    670      0 --:--:-- --:--:-- --:--:--   672\n"
     ]
    }
   ],
   "source": [
    "!curl http://httpbin.org/get?myname='js'"
   ]
  },
  {
   "cell_type": "code",
   "execution_count": 17,
   "id": "378a100b-c81e-4cb6-802e-e024a2276302",
   "metadata": {},
   "outputs": [],
   "source": [
    "#requests는 어떤 HTTP method가 지원 되는지 알려준다\n",
    "\n",
    "import requests\n",
    "r = requests.options(\"http://httpbin.org/\")"
   ]
  },
  {
   "cell_type": "code",
   "execution_count": 18,
   "id": "9bab4e3d-5ef0-4ff3-a108-39ba4d5d3d1e",
   "metadata": {},
   "outputs": [
    {
     "name": "stdout",
     "output_type": "stream",
     "text": [
      "HEAD, GET, OPTIONS\n"
     ]
    }
   ],
   "source": [
    "print(r.headers['allow'])"
   ]
  },
  {
   "cell_type": "code",
   "execution_count": 19,
   "id": "b65bd001-34ba-496d-b3ba-b02ff480d0c5",
   "metadata": {},
   "outputs": [],
   "source": [
    "#응답의 상태를 알아내는 방법"
   ]
  },
  {
   "cell_type": "code",
   "execution_count": 20,
   "id": "5bcc364f-f896-4ab2-b962-cb2335f5c72a",
   "metadata": {},
   "outputs": [
    {
     "data": {
      "text/plain": [
       "200"
      ]
     },
     "execution_count": 20,
     "metadata": {},
     "output_type": "execute_result"
    }
   ],
   "source": [
    "r.status_code"
   ]
  },
  {
   "cell_type": "markdown",
   "id": "96430409-e86a-4a20-809c-be87e14bb0be",
   "metadata": {},
   "source": [
    "200: 앞자리 2는 성공을 의미하며, 200은 HTTP 요청이 성공적으로 접수, 처리되었다는 의미이다.\n",
    "300: 앞자리 3은 우회 (redirection)를 의미하고, 300은 클라이언트가 어떤 하나를 선택해야 한다는 의미이다.\n",
    "404: 앞자리 4는 클라이언트측의 오류로서, 404는 찾을 수 없다는, 403은 해당 자원에 대한 접근이 금지되었다는 응답이다.\n",
    "500: 앞자리 5는 서버측의 오류이다. 500은 서버오류, 501은 서버 미구현을 의미한다."
   ]
  },
  {
   "cell_type": "code",
   "execution_count": null,
   "id": "c9243f5b-dc82-4184-8523-1837dccfc48c",
   "metadata": {},
   "outputs": [],
   "source": []
  },
  {
   "cell_type": "code",
   "execution_count": null,
   "id": "f4e9aa90-0ced-442d-b451-7e2d87584f70",
   "metadata": {},
   "outputs": [],
   "source": []
  },
  {
   "cell_type": "code",
   "execution_count": 26,
   "id": "49253ef6-87f0-48e2-aaf5-479c828964be",
   "metadata": {},
   "outputs": [],
   "source": [
    "#POST & JSON"
   ]
  },
  {
   "cell_type": "code",
   "execution_count": 27,
   "id": "1b318b70-81f5-4043-926d-e8b834495de2",
   "metadata": {},
   "outputs": [],
   "source": [
    "r = requests.post(\"http://httpbin.org/post\", data={\"name\":\"js\"})"
   ]
  },
  {
   "cell_type": "code",
   "execution_count": 28,
   "id": "5e97a433-c5d0-4f61-a2b6-c93c213ec87a",
   "metadata": {},
   "outputs": [
    {
     "data": {
      "text/plain": [
       "{'args': {},\n",
       " 'data': '',\n",
       " 'files': {},\n",
       " 'form': {'name': 'js'},\n",
       " 'headers': {'Accept': '*/*',\n",
       "  'Accept-Encoding': 'gzip, deflate',\n",
       "  'Content-Length': '7',\n",
       "  'Content-Type': 'application/x-www-form-urlencoded',\n",
       "  'Host': 'httpbin.org',\n",
       "  'User-Agent': 'python-requests/2.32.3',\n",
       "  'X-Amzn-Trace-Id': 'Root=1-66f4efbd-5160578178e9b2061f271db9'},\n",
       " 'json': None,\n",
       " 'origin': '203.237.172.117',\n",
       " 'url': 'http://httpbin.org/post'}"
      ]
     },
     "execution_count": 28,
     "metadata": {},
     "output_type": "execute_result"
    }
   ],
   "source": [
    "r.json()"
   ]
  },
  {
   "cell_type": "code",
   "execution_count": null,
   "id": "97d58953-47ee-4f5e-bdfa-d26f97c98a47",
   "metadata": {},
   "outputs": [],
   "source": []
  },
  {
   "cell_type": "code",
   "execution_count": null,
   "id": "f77abbcc-7f0b-44fb-afb9-ad87037e1726",
   "metadata": {},
   "outputs": [],
   "source": []
  },
  {
   "cell_type": "code",
   "execution_count": 29,
   "id": "7fd75f7f-3311-461d-81b3-8e991603dc75",
   "metadata": {},
   "outputs": [],
   "source": [
    "#header\n",
    "# : request, response메세지에 포함되는 정보"
   ]
  },
  {
   "cell_type": "code",
   "execution_count": 30,
   "id": "18ceba8f-17f6-4d5a-8c79-0fe0e868e992",
   "metadata": {},
   "outputs": [],
   "source": [
    "r = requests.head(\"http://httpbin.org/\")"
   ]
  },
  {
   "cell_type": "code",
   "execution_count": 31,
   "id": "d5f6874c-90ce-48ae-937b-b93b90049887",
   "metadata": {},
   "outputs": [
    {
     "name": "stdout",
     "output_type": "stream",
     "text": [
      "{'Date': 'Thu, 26 Sep 2024 05:26:28 GMT', 'Content-Type': 'text/html; charset=utf-8', 'Content-Length': '9593', 'Connection': 'keep-alive', 'Server': 'gunicorn/19.9.0', 'Access-Control-Allow-Origin': '*', 'Access-Control-Allow-Credentials': 'true'}\n"
     ]
    }
   ],
   "source": [
    "print(r.headers)"
   ]
  },
  {
   "cell_type": "code",
   "execution_count": 32,
   "id": "d5132bc0-002b-4eaf-8cd8-d05b0c6bad07",
   "metadata": {},
   "outputs": [
    {
     "data": {
      "text/plain": [
       "'text/html; charset=utf-8'"
      ]
     },
     "execution_count": 32,
     "metadata": {},
     "output_type": "execute_result"
    }
   ],
   "source": [
    "r.headers['Content-Type']"
   ]
  },
  {
   "cell_type": "code",
   "execution_count": null,
   "id": "8a3ead67-b0fc-4d75-a30d-b93cb7795f7f",
   "metadata": {},
   "outputs": [],
   "source": []
  },
  {
   "cell_type": "code",
   "execution_count": null,
   "id": "a075f52a-b166-45ed-9d71-f906cd3a8599",
   "metadata": {},
   "outputs": [],
   "source": []
  },
  {
   "cell_type": "markdown",
   "id": "a14255c6-24c5-44cc-aada-5e56e06ed314",
   "metadata": {},
   "source": [
    "1. Request (요청)\n",
    "Request는 클라이언트(예: 웹 브라우저)가 서버에 보내는 메시지를 의미합니다. 사용자가 웹 페이지를 요청할 때, 클라이언트는 서버에 여러 정보를 담은 요청을 보냅니다. 이 요청은 주로 다음과 같은 구성 요소를 포함합니다:\n",
    "\n",
    "메서드 (Method): 요청의 종류를 나타내며, 일반적으로 사용되는 메서드는 다음과 같습니다:\n",
    "\n",
    "GET: 서버에서 데이터를 요청할 때 사용. 예를 들어, 특정 웹 페이지를 가져올 때.\n",
    "POST: 서버에 데이터를 전송할 때 사용. 예를 들어, 로그인 폼 제출 시.\n",
    "PUT, DELETE 등: 자원 업데이트 및 삭제 시 사용.\n",
    "URL: 요청하는 자원의 주소. 예: /index.html, /api/data.\n",
    "\n",
    "HTTP 버전: 사용하고 있는 HTTP 프로토콜의 버전 (예: HTTP/1.1, HTTP/2).\n",
    "\n",
    "헤더 (Headers): 요청에 대한 추가 정보를 포함. 예를 들어:\n",
    "\n",
    "User-Agent: 요청을 보낸 클라이언트의 정보.\n",
    "Accept: 클라이언트가 지원하는 콘텐츠 유형 (예: text/html, application/json 등).\n",
    "Authorization: 인증 정보를 포함할 때 사용.\n",
    "본문 (Body): POST 요청 등에서 서버에 보내는 데이터를 포함. 예를 들어, 로그인 정보나 양식 데이터."
   ]
  },
  {
   "cell_type": "markdown",
   "id": "5099b766-9722-4c5f-859d-8e36688c5222",
   "metadata": {},
   "source": [
    "2. Response (응답)\n",
    "Response는 서버가 클라이언트의 요청에 대해 보내는 메시지를 의미합니다. 서버는 클라이언트의 요청에 따라 필요한 데이터를 반환하거나, 요청의 성공 여부를 알려줍니다. 응답 메시지는 주로 다음과 같은 구성 요소를 포함합니다:\n",
    "\n",
    "HTTP 상태 코드 (Status Code): 요청의 결과를 나타내는 코드. 예:\n",
    "\n",
    "200 OK: 요청이 성공적으로 처리되었음을 의미.\n",
    "404 Not Found: 요청한 자원을 찾을 수 없음을 의미.\n",
    "500 Internal Server Error: 서버에서 오류가 발생했음을 의미.\n",
    "HTTP 버전: 사용하고 있는 HTTP 프로토콜의 버전 (예: HTTP/1.1, HTTP/2).\n",
    "\n",
    "헤더 (Headers): 응답에 대한 추가 정보를 포함. 예를 들어:\n",
    "\n",
    "Content-Type: 응답 본문의 콘텐츠 유형 (예: text/html, application/json 등).\n",
    "Content-Length: 응답 본문의 길이.\n",
    "Set-Cookie: 클라이언트에 쿠키를 설정할 때 사용.\n",
    "본문 (Body): 클라이언트가 요청한 데이터가 포함된 부분. 예를 들어, HTML 페이지, JSON 데이터 등."
   ]
  },
  {
   "cell_type": "markdown",
   "id": "88b3a8b1-e004-4742-ae0b-e0660cc0dfe2",
   "metadata": {},
   "source": [
    "요약\n",
    "Request: 클라이언트가 서버에 보내는 요청 메시지로, 메서드, URL, 헤더, 본문 등을 포함.\n",
    "Response: 서버가 클라이언트의 요청에 응답하는 메시지로, 상태 코드, 헤더, 본문 등을 포함."
   ]
  },
  {
   "cell_type": "code",
   "execution_count": null,
   "id": "b8ec7640-24f0-4af9-a691-f8ea21e3114f",
   "metadata": {},
   "outputs": [],
   "source": []
  },
  {
   "cell_type": "code",
   "execution_count": null,
   "id": "35e42776-8d31-4a34-ae52-b8a0edbf416a",
   "metadata": {},
   "outputs": [],
   "source": []
  },
  {
   "cell_type": "code",
   "execution_count": 34,
   "id": "8483387f-913b-4bb1-8968-a870c01815e3",
   "metadata": {},
   "outputs": [],
   "source": [
    "# urllib\n",
    "# 파이썬에서 URL 작업을 수행하기 위해 제공되는 모듈\n",
    "# HTTP 요청 보내기 & 응답 처리하기 & URL 구성요소 다루기 & URL 인코딩/디코딩"
   ]
  },
  {
   "cell_type": "markdown",
   "id": "bf412f7a-ab83-4ada-b4bb-d29e2249e4a2",
   "metadata": {},
   "source": [
    "urllib.request:\n",
    "\n",
    "HTTP 요청을 보내고 응답을 처리하는 데 사용됩니다.\n",
    "URL에 대한 GET, POST 요청을 수행할 수 있습니다.\n",
    "예를 들어, 웹 페이지를 다운로드하거나 API에 요청을 보내는 데 사용됩니다."
   ]
  },
  {
   "cell_type": "code",
   "execution_count": 35,
   "id": "a137d738-7485-4748-b16a-90d484b7edec",
   "metadata": {},
   "outputs": [
    {
     "name": "stdout",
     "output_type": "stream",
     "text": [
      "HEAD request method: HEAD\n",
      "GET request method: GET\n",
      "<!doctype html>\n",
      "<html>\n",
      "<head>\n",
      "    <title>Example Domain</title>\n",
      "\n",
      "    <meta charset=\"utf-8\" />\n",
      "    <meta http-equiv=\"Content-type\" content=\"text/html; charset=utf-8\" />\n",
      "    <meta name=\"viewport\" content=\"width=device-width, initial-scale=1\" />\n",
      "    <style type=\"text/css\">\n",
      "    body {\n",
      "        background-color: #f0f0f2;\n",
      "        margin: 0;\n",
      "        padding: 0;\n",
      "        font-family: -apple-system, system-ui, BlinkMacSystemFont, \"Segoe UI\", \"Open Sans\", \"Helvetica Neue\", Helvetica, Arial, sans-serif;\n",
      "        \n",
      "    }\n",
      "    div {\n",
      "        width: 600px;\n",
      "        margin: 5em auto;\n",
      "        padding: 2em;\n",
      "        background-color: #fdfdff;\n",
      "        border-radius: 0.5em;\n",
      "        box-shadow: 2px 3px 7px 2px rgba(0,0,0,0.02);\n",
      "    }\n",
      "    a:link, a:visited {\n",
      "        color: #38488f;\n",
      "        text-decoration: none;\n",
      "    }\n",
      "    @media (max-width: 700px) {\n",
      "        div {\n",
      "            margin: 0 auto;\n",
      "            width: auto;\n",
      "        }\n",
      "    }\n",
      "    </style>    \n",
      "</head>\n",
      "\n",
      "<body>\n",
      "<div>\n",
      "    <h1>Example Domain</h1>\n",
      "    <p>This domain is for use in illustrative examples in documents. You may use this\n",
      "    domain in literature without prior coordination or asking for permission.</p>\n",
      "    <p><a href=\"https://www.iana.org/domains/example\">More information...</a></p>\n",
      "</div>\n",
      "</body>\n",
      "</html>\n",
      "\n",
      "PUT request method: PUT\n"
     ]
    }
   ],
   "source": [
    "import urllib.request\n",
    "\n",
    "class MyRequest(urllib.request.Request):\n",
    "    def __init__(self, url, method=None, data=None, headers={}):\n",
    "        super().__init__(url, data=data, headers=headers)\n",
    "        self._method = method\n",
    "\n",
    "    def get_method(self):\n",
    "        if self._method is not None:\n",
    "            return self._method\n",
    "        return super().get_method()\n",
    "\n",
    "head_request = MyRequest('http://example.com', method='HEAD') # HEAD 요청\n",
    "print(f'HEAD request method: {head_request.get_method()}')\n",
    "\n",
    "get_request = MyRequest('http://example.com', method='GET') # GET 요청\n",
    "print(f'GET request method: {get_request.get_method()}')\n",
    "response = urllib.request.urlopen(get_request)\n",
    "print(response.read().decode('utf-8'))\n",
    "\n",
    "put_request = MyRequest('http://example.com', method='PUT', data=b'data to send') # PUT 요청\n",
    "print(f'PUT request method: {put_request.get_method()}')"
   ]
  },
  {
   "cell_type": "code",
   "execution_count": 36,
   "id": "a5262620-75cf-451d-ac05-3b6c49185274",
   "metadata": {},
   "outputs": [
    {
     "name": "stdout",
     "output_type": "stream",
     "text": [
      "Writing src/ds_open_hello.xml\n"
     ]
    }
   ],
   "source": [
    "%%writefile src/ds_open_hello.xml\n",
    "<students>\n",
    "<student x=\"1\">\n",
    "    <id>001</id>\n",
    "    <name>Kim</name>\n",
    "</student>\n",
    "<student x=\"2\">\n",
    "    <id>002</id>\n",
    "    <name>Lee</name>\n",
    "</student>\n",
    "</students>"
   ]
  },
  {
   "cell_type": "code",
   "execution_count": null,
   "id": "b0971446-e189-400c-85c4-a1b02d3e1ee3",
   "metadata": {},
   "outputs": [],
   "source": []
  }
 ],
 "metadata": {
  "kernelspec": {
   "display_name": "Python 3.9",
   "language": "python",
   "name": "python39"
  },
  "language_info": {
   "codemirror_mode": {
    "name": "ipython",
    "version": 3
   },
   "file_extension": ".py",
   "mimetype": "text/x-python",
   "name": "python",
   "nbconvert_exporter": "python",
   "pygments_lexer": "ipython3",
   "version": "3.9.1"
  }
 },
 "nbformat": 4,
 "nbformat_minor": 5
}
