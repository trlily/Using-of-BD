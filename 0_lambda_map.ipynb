{
 "cells": [
  {
   "cell_type": "markdown",
   "id": "9c4264fe-e047-4c22-a84a-3a49b7aefcd7",
   "metadata": {},
   "source": [
    "#lambda 함수"
   ]
  },
  {
   "cell_type": "code",
   "execution_count": 2,
   "id": "16c78b85-ee73-4749-a915-6a7af84a48e2",
   "metadata": {},
   "outputs": [
    {
     "name": "stdout",
     "output_type": "stream",
     "text": [
      "9\n"
     ]
    }
   ],
   "source": [
    "def f(x):\n",
    "    return x**2\n",
    "y = f(3)\n",
    "print(y)"
   ]
  },
  {
   "cell_type": "code",
   "execution_count": 4,
   "id": "36fac654-5e1f-4654-9b1a-e081fb351d4b",
   "metadata": {},
   "outputs": [
    {
     "name": "stdout",
     "output_type": "stream",
     "text": [
      "9\n"
     ]
    }
   ],
   "source": [
    "y = lambda x:x**2\n",
    "print(y(3))\n",
    "\n",
    "# 변수 = lambda 받는 값:계산 식"
   ]
  },
  {
   "cell_type": "markdown",
   "id": "3eda01f0-5849-4c68-9ca0-f475783620c7",
   "metadata": {},
   "source": [
    "#map 함수 \n",
    "# map(function, iterable) fuction: 함수 iterable: 함수를 적용할 data집"
   ]
  },
  {
   "cell_type": "code",
   "execution_count": 5,
   "id": "a7d30036-b0f1-457f-94ee-4bd9db8a2254",
   "metadata": {},
   "outputs": [],
   "source": [
    "temp = [23, 36.5, 37.5, 19]\n",
    "\n",
    "F = map(lambda x:(float(9)/5)*x + 32, temp)"
   ]
  },
  {
   "cell_type": "code",
   "execution_count": 7,
   "id": "9c3e67f0-a009-4600-b8cb-544458035c97",
   "metadata": {},
   "outputs": [
    {
     "name": "stdout",
     "output_type": "stream",
     "text": [
      "[73.4, 97.7, 99.5, 66.2]\n"
     ]
    }
   ],
   "source": [
    "print(list(F))"
   ]
  },
  {
   "cell_type": "markdown",
   "id": "1f850587-1c37-4f0c-82cf-c8c2ef26c6e3",
   "metadata": {},
   "source": [
    "#reduce 함수"
   ]
  },
  {
   "cell_type": "code",
   "execution_count": 8,
   "id": "4b284989-e170-41b4-a736-08b231ff056e",
   "metadata": {},
   "outputs": [],
   "source": [
    "from functools import reduce"
   ]
  },
  {
   "cell_type": "code",
   "execution_count": 11,
   "id": "7ee00158-1c75-4ee6-9d3c-da113a0c06bf",
   "metadata": {},
   "outputs": [
    {
     "name": "stdout",
     "output_type": "stream",
     "text": [
      "210\n"
     ]
    }
   ],
   "source": [
    "from functools import reduce\n",
    "def SumFunction(x, y):\n",
    "    return x + y\n",
    "    \n",
    "target = list(range(1, 21))\n",
    "print(reduce(SumFunction, target))  #reduce를 이용하여 반복문 대신 사용할 수 있다."
   ]
  },
  {
   "cell_type": "code",
   "execution_count": 13,
   "id": "17ab5f49-b731-4ea7-ab9b-c983efc45435",
   "metadata": {},
   "outputs": [
    {
     "name": "stdout",
     "output_type": "stream",
     "text": [
      "210\n"
     ]
    }
   ],
   "source": [
    "def SumFunction(x, y):\n",
    "    return x + y\n",
    "\n",
    "target = list(range(1, 21))\n",
    "result = 0\n",
    "\n",
    "#target 안에는 1부터 20까지의 수가 있다 -> 따라서 1부터 20까지 계속 누적하며 더하는 거임\n",
    "\n",
    "for value in target:\n",
    "    result = SumFunction(result, value)\n",
    "print(result)"
   ]
  },
  {
   "cell_type": "raw",
   "id": "9ea132a5-b698-4bc4-a92a-e513aa62f4b3",
   "metadata": {},
   "source": [
    "#1.12 부터는 추후 정리\n",
    "\n",
    "#s/ds1_intro_python_numpy.ipynb"
   ]
  }
 ],
 "metadata": {
  "kernelspec": {
   "display_name": "Python 3.9",
   "language": "python",
   "name": "python39"
  },
  "language_info": {
   "codemirror_mode": {
    "name": "ipython",
    "version": 3
   },
   "file_extension": ".py",
   "mimetype": "text/x-python",
   "name": "python",
   "nbconvert_exporter": "python",
   "pygments_lexer": "ipython3",
   "version": "3.9.1"
  }
 },
 "nbformat": 4,
 "nbformat_minor": 5
}
