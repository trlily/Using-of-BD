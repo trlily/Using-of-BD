{
 "cells": [
  {
   "cell_type": "markdown",
   "id": "7710621a-16a9-4c21-8448-45cb3d8a352f",
   "metadata": {},
   "source": [
    "#호환을 위해 3.9로 사용할 예정이다"
   ]
  },
  {
   "cell_type": "markdown",
   "id": "00a0a997-21a9-4ae9-8154-7492d1eeb53b",
   "metadata": {},
   "source": [
    "python install\n",
    "\n",
    "1. python 홈페이지에서 installer를 3.9버전으로 설치한다\n",
    "2. cmd(명령프롬포트)창을 연다.\n",
    "# 이렇게 하면 3.9 기준으로 패키지 설치 \n",
    "# py -3.9 -m pip list 하면 확인 가능\n",
    "\n",
    "3. py -3.9 -m venv env3.9 # (python3.9 -m venv env39) # Python 3.9을 기반으로 가상환경 생성\n",
    "4. (env3.9) pip install matplotlib==3.2.2\n",
    "5. (env3.9) pip install pyspark \n",
    "6. (env3.9) pip install jupyter # jupyter만 설치해도 ipkernel도 설치\n",
    "7. (env3.9) python -m ipykernel install --user --name python39 --display-name \"Python 3.9\"\n",
    "8. (env3.9) jupyter kernelspec list\n",
    "9. (env3.9) start jupyter notebook\n",
    "10. (env_name) $ python --version"
   ]
  },
  {
   "cell_type": "markdown",
   "id": "4989086d-b23e-40e2-b41e-fc09fc320823",
   "metadata": {},
   "source": [
    "이후 실행시 이렇게 하면 된다.\n",
    "\n",
    "1. env3.9\\Scripts\\activate\n",
    "2. (env3.9) start jupyter notebook"
   ]
  },
  {
   "cell_type": "markdown",
   "id": "8c24b512-c688-4011-9b37-554f5b977988",
   "metadata": {},
   "source": [
    "jupyter setting\n",
    "\n",
    "import sys\n",
    "for i in sys.path:\n",
    "    print(i)\n",
    "\n",
    "import site\n",
    "print(site.getsitepackages())"
   ]
  },
  {
   "cell_type": "markdown",
   "id": "3132d5b7-341a-4d30-b5d0-18aa0bae4230",
   "metadata": {},
   "source": [
    "1. 왕기초"
   ]
  },
  {
   "cell_type": "code",
   "execution_count": 2,
   "id": "2cb00087-71e0-423a-b42f-e5eaac3aa192",
   "metadata": {},
   "outputs": [
    {
     "name": "stdout",
     "output_type": "stream",
     "text": [
      "면적:  6\n"
     ]
    }
   ],
   "source": [
    "w=3\n",
    "h=2\n",
    "area=w*h\n",
    "print(\"면적: \",area)"
   ]
  },
  {
   "cell_type": "code",
   "execution_count": 3,
   "id": "07893f33-bd96-4221-991b-ba35cd0df914",
   "metadata": {},
   "outputs": [
    {
     "data": {
      "text/plain": [
       "str"
      ]
     },
     "execution_count": 3,
     "metadata": {},
     "output_type": "execute_result"
    }
   ],
   "source": [
    "area=\"hello\"\n",
    "type(area)"
   ]
  },
  {
   "cell_type": "markdown",
   "id": "ef60b872-986e-4496-b616-6fe158c76358",
   "metadata": {},
   "source": [
    "2. 연산자"
   ]
  },
  {
   "cell_type": "code",
   "execution_count": 4,
   "id": "9aa1bf46-923f-4b04-933c-b39204bc111d",
   "metadata": {},
   "outputs": [
    {
     "name": "stdout",
     "output_type": "stream",
     "text": [
      "0.6931471805599453\n",
      "3.141592653589793\n"
     ]
    }
   ],
   "source": [
    "import math\n",
    "print(math.log(2))\n",
    "print(math.pi)"
   ]
  },
  {
   "cell_type": "code",
   "execution_count": 5,
   "id": "41a9a6ba-3ae8-4e4f-94d7-9dfc0ccfe237",
   "metadata": {},
   "outputs": [
    {
     "name": "stdout",
     "output_type": "stream",
     "text": [
      "hellohello\n",
      "hellohello\n"
     ]
    }
   ],
   "source": [
    "#string에 연산자 적용\n",
    "\n",
    "# operator overloading\n",
    "a=\"hello\"\n",
    "print(a+a)\n",
    "print(2*a)"
   ]
  },
  {
   "cell_type": "code",
   "execution_count": 6,
   "id": "68de6d88-8fb4-4e14-8e99-8032c4f7b7e0",
   "metadata": {},
   "outputs": [
    {
     "name": "stdout",
     "output_type": "stream",
     "text": [
      "3\n",
      "2\n",
      "15\n",
      "1.5\n"
     ]
    }
   ],
   "source": [
    "#기본 연산자 함수\n",
    "\n",
    "import operator\n",
    "print(operator.add(1, 2))  # 3\n",
    "print(operator.sub(5, 3))  # 2\n",
    "print(operator.mul(5, 3))  # 15\n",
    "print(operator.truediv(6, 4))  # 1.5"
   ]
  },
  {
   "cell_type": "code",
   "execution_count": 7,
   "id": "e724f0cf-a8d0-4328-8f67-33c9ead25a00",
   "metadata": {},
   "outputs": [
    {
     "name": "stdout",
     "output_type": "stream",
     "text": [
      "1\n",
      "2\n",
      "6\n",
      "6\n"
     ]
    }
   ],
   "source": [
    "import operator\n",
    "p=1\n",
    "for i in range(1,4):\n",
    "    p=operator.mul(p,i)\n",
    "    print(p) # 1*1 = 1\n",
    "             # 1*2 = 2\n",
    "             # 2*3 = 6    #파이썬에서 range(시작,끝)을 하면 끝 직전까지만 돌아간다.\n",
    "\n",
    "print(p)"
   ]
  },
  {
   "cell_type": "markdown",
   "id": "d4765511-1eda-44dc-8508-26dbf9450e16",
   "metadata": {},
   "source": [
    "3. 논리"
   ]
  },
  {
   "cell_type": "code",
   "execution_count": 8,
   "id": "4e7745cd-4990-4f45-86b1-7c661df15acb",
   "metadata": {},
   "outputs": [
    {
     "name": "stdout",
     "output_type": "stream",
     "text": [
      "False\n"
     ]
    }
   ],
   "source": [
    "# boolean\n",
    "print(3>4)"
   ]
  },
  {
   "cell_type": "markdown",
   "id": "d05253cb-d5fa-4626-a314-67005c38a5af",
   "metadata": {},
   "source": [
    "4. 숫자"
   ]
  },
  {
   "cell_type": "code",
   "execution_count": 9,
   "id": "cb52351c-9644-4730-b53b-3a87c52cdccd",
   "metadata": {},
   "outputs": [
    {
     "name": "stdout",
     "output_type": "stream",
     "text": [
      "1024\n",
      "1.5\n",
      "1.5\n"
     ]
    }
   ],
   "source": [
    "print(2**10)\n",
    "print(3/2)\n",
    "print(3/2.)    #정수 3과 소수 2.의 혼합된 데이터타입이라 결과가 큰 쪽인 소수로 산출"
   ]
  },
  {
   "cell_type": "markdown",
   "id": "24e30f6c-2088-4a80-96a6-a1a25e3ff4a2",
   "metadata": {},
   "source": [
    "5. 반복"
   ]
  },
  {
   "cell_type": "code",
   "execution_count": 10,
   "id": "a227fc99-0f57-4ac4-881a-3b4d181147c1",
   "metadata": {},
   "outputs": [
    {
     "name": "stdout",
     "output_type": "stream",
     "text": [
      "1\n",
      "3\n",
      "5\n",
      "7\n",
      "9\n"
     ]
    }
   ],
   "source": [
    "for i in range(5):\n",
    "  print(2 * i + 1)"
   ]
  },
  {
   "cell_type": "code",
   "execution_count": 11,
   "id": "498b2246-5306-4d42-ab9a-a974b2e89ca9",
   "metadata": {},
   "outputs": [
    {
     "name": "stdout",
     "output_type": "stream",
     "text": [
      "1\n",
      "5\n",
      "9\n",
      "13\n",
      "17\n"
     ]
    }
   ],
   "source": [
    "for i in range(0,10,2):\n",
    "  print(2 * i + 1)\n",
    "    #시작 끝(보다 하나 앞에서 끝남) 간격"
   ]
  },
  {
   "cell_type": "code",
   "execution_count": 12,
   "id": "5cb3f3bb-c2ec-492f-acc5-8412e098255c",
   "metadata": {},
   "outputs": [
    {
     "name": "stdout",
     "output_type": "stream",
     "text": [
      "55\n",
      "55\n"
     ]
    }
   ],
   "source": [
    "total = 0\n",
    "total_sh = 0\n",
    "i = 1\n",
    "while i < 11:\n",
    "    total = total + i\n",
    "    total_sh+=i\n",
    "    #total_sh = total_sh+i\n",
    "    i=i+1\n",
    "print(total)\n",
    "print(total_sh)"
   ]
  },
  {
   "cell_type": "code",
   "execution_count": 13,
   "id": "14325116-1452-4375-be94-9f295599cf64",
   "metadata": {},
   "outputs": [
    {
     "name": "stdout",
     "output_type": "stream",
     "text": [
      "5050\n"
     ]
    }
   ],
   "source": [
    "total=0\n",
    "for i in range(0,101):\n",
    "    total+=i\n",
    "    #total = total+i\n",
    "print(total)"
   ]
  },
  {
   "cell_type": "markdown",
   "id": "7e8cc434-59a5-4c9a-8fb4-aa7783cdf71d",
   "metadata": {},
   "source": [
    "6. 튜플() 리스트[] 딕셔너리{}"
   ]
  },
  {
   "cell_type": "code",
   "execution_count": 14,
   "id": "2ecc913b-a7a4-4676-b39c-c642a72de8d8",
   "metadata": {},
   "outputs": [
    {
     "name": "stdout",
     "output_type": "stream",
     "text": [
      "Today is warm\n",
      "Today is sunny\n",
      "Today is beautiful\n"
     ]
    }
   ],
   "source": [
    "for word in ('warm','sunny','beautiful'):\n",
    "   print('Today is %s' % word)"
   ]
  },
  {
   "cell_type": "code",
   "execution_count": 15,
   "id": "d72e04e3-5329-4c8b-be3f-6224820b0f73",
   "metadata": {},
   "outputs": [
    {
     "name": "stdout",
     "output_type": "stream",
     "text": [
      "0 warm\n",
      "1 sunny\n",
      "2 beautiful\n"
     ]
    }
   ],
   "source": [
    "# enumerate() function -> 카운터 인덱스 사용\n",
    "\n",
    "words=['warm','sunny','beautiful']\n",
    "for index, item in enumerate(words):\n",
    "   print(index, item)"
   ]
  },
  {
   "cell_type": "code",
   "execution_count": 16,
   "id": "8e70c2e8-8145-4a99-8958-e76704730f20",
   "metadata": {},
   "outputs": [
    {
     "name": "stdout",
     "output_type": "stream",
     "text": [
      "[1, 2, 3, 4, 5]\n"
     ]
    }
   ],
   "source": [
    "print([x for x in [1, 2, 3, 4, 5]])"
   ]
  },
  {
   "cell_type": "code",
   "execution_count": 17,
   "id": "0558d8f6-dcbf-4891-9215-ec29bc820579",
   "metadata": {},
   "outputs": [
    {
     "name": "stdout",
     "output_type": "stream",
     "text": [
      "55\n"
     ]
    }
   ],
   "source": [
    "# sum of square\n",
    "print(sum([x*x for x in [1, 2, 3, 4, 5]]))"
   ]
  },
  {
   "cell_type": "markdown",
   "id": "cc823ee9-8687-47c8-80f0-2212a362bcae",
   "metadata": {},
   "source": [
    "7. if문"
   ]
  },
  {
   "cell_type": "code",
   "execution_count": 18,
   "id": "0c1301c2-bbdd-4334-a61b-b612948f5b0f",
   "metadata": {},
   "outputs": [
    {
     "name": "stdout",
     "output_type": "stream",
     "text": [
      "25.5F를 변환하면 -3.61입니다\n"
     ]
    }
   ],
   "source": [
    "sel = 'F'\n",
    "temperature = 25.5\n",
    "if sel=='F':\n",
    "    res=(temperature-32)*(5/9.0)\n",
    "elif sel=='C':\n",
    "    res=temperature*(9.0/5.0)+32\n",
    "else:\n",
    "    print(\"선택은 F또는 C이어야 합니다.\")\n",
    "print(\"{0:.1f}{1:s}를 변환하면 {2:.2f}입니다\".format(temperature,sel,res))"
   ]
  },
  {
   "cell_type": "markdown",
   "id": "457529a7-ff75-477f-95dd-99cc01753b49",
   "metadata": {},
   "source": [
    "8. containers of python"
   ]
  },
  {
   "cell_type": "code",
   "execution_count": 19,
   "id": "0dfb30f1-43e4-41a7-b7ae-be14767b67c8",
   "metadata": {},
   "outputs": [
    {
     "name": "stdout",
     "output_type": "stream",
     "text": [
      "<class 'list'>\n",
      "myList:  [1, 2, 3, 4, 5]\n"
     ]
    }
   ],
   "source": [
    "# list\n",
    "\n",
    "#1.\n",
    "my = list()\n",
    "\n",
    "#2.\n",
    "myList=[1,2,3,4,5]\n",
    "print(type(myList))\n",
    "print(\"myList: \", myList)"
   ]
  },
  {
   "cell_type": "code",
   "execution_count": 20,
   "id": "ce895c41-7980-4103-83c9-449c159065f2",
   "metadata": {},
   "outputs": [
    {
     "name": "stdout",
     "output_type": "stream",
     "text": [
      "3\n",
      "5\n",
      "[3, 4]\n",
      "[4, 5]\n",
      "[1, 2, 3]\n",
      "[1, 3, 5]\n"
     ]
    }
   ],
   "source": [
    "print(myList[2])      #3번째\n",
    "print(myList[-1])     #마지막\n",
    "print(myList[2:4])    #3째 ~ 4째 (마지막 인덱스는 제외)\n",
    "print(myList[3:])     #4째 이후 모든 값\n",
    "print(myList[:3])     #처음부터 3째까지\n",
    "print(myList[::2])    #처음부터 끝까지, 하나씩 건너서"
   ]
  },
  {
   "cell_type": "code",
   "execution_count": 21,
   "id": "64747b85-c9dd-4684-85af-54b58abe99ca",
   "metadata": {},
   "outputs": [
    {
     "name": "stdout",
     "output_type": "stream",
     "text": [
      "[28, 2, 3, 4, 5]\n"
     ]
    }
   ],
   "source": [
    "# update\n",
    "\n",
    "# lists are mutable\n",
    "myList[0]=28\n",
    "print(myList)"
   ]
  },
  {
   "cell_type": "code",
   "execution_count": 22,
   "id": "8aba07a0-edd7-4408-b1ad-2e89c53c9097",
   "metadata": {},
   "outputs": [
    {
     "name": "stdout",
     "output_type": "stream",
     "text": [
      "['hello', 2, 3, 4, 5]\n"
     ]
    }
   ],
   "source": [
    "# 지료형 호환\n",
    "\n",
    "# list may have different types\n",
    "myList[0]='hello'\n",
    "print(myList)"
   ]
  },
  {
   "cell_type": "code",
   "execution_count": 23,
   "id": "176d3243-c384-48b5-b5ce-1569e6a06e5c",
   "metadata": {},
   "outputs": [
    {
     "name": "stdout",
     "output_type": "stream",
     "text": [
      "['hello', 2, 3, 4, 5, 10]\n"
     ]
    }
   ],
   "source": [
    "myList.append(10)\n",
    "print(myList)"
   ]
  },
  {
   "cell_type": "code",
   "execution_count": 24,
   "id": "10906769-a47c-4c72-9f5f-bd42ad10e568",
   "metadata": {},
   "outputs": [
    {
     "name": "stdout",
     "output_type": "stream",
     "text": [
      "10\n",
      "['hello', 2, 3, 4, 5]\n"
     ]
    }
   ],
   "source": [
    "#delete\n",
    "\n",
    "print(myList.pop())\n",
    "print(myList)"
   ]
  },
  {
   "cell_type": "code",
   "execution_count": 25,
   "id": "767a0400-6b12-4ac7-a9fd-d26234f9748d",
   "metadata": {},
   "outputs": [
    {
     "name": "stdout",
     "output_type": "stream",
     "text": [
      "<zip object at 0x00000215057B95C0>\n",
      "[(1, 4), (2, 5), (3, 6)]\n"
     ]
    }
   ],
   "source": [
    " #리스트 묶기 (zip function)\n",
    "\n",
    "my2=zip([1,2,3],[4,5,6])\n",
    "print(my2)\n",
    "print(list(my2))"
   ]
  },
  {
   "cell_type": "code",
   "execution_count": 26,
   "id": "52a4b111-2b6f-41ae-b035-3fa1d6fd84e7",
   "metadata": {},
   "outputs": [
    {
     "name": "stdout",
     "output_type": "stream",
     "text": [
      "['names', 'subjects', 'scores']\n",
      "['김하나', 'English', 100]\n",
      "['김하나', 'Math', 80]\n",
      "['임하나', 'English', 70]\n",
      "['임하나', 'Math', 100]\n",
      "['김갑돌', 'English', 82.3]\n",
      "['김갑돌', 'Math', 98.5]\n"
     ]
    }
   ],
   "source": [
    "#리스트 내 계산\n",
    "\n",
    "marks=[\n",
    "    [ 'names', 'subjects','scores'],\n",
    "    ['김하나','English', 100],\n",
    "    ['김하나','Math', 80],\n",
    "    ['임하나','English', 70],\n",
    "    ['임하나','Math', 100],\n",
    "    ['김갑돌','English', 82.3],\n",
    "    ['김갑돌','Math', 98.5]\n",
    "]\n",
    "\n",
    "for row in marks:\n",
    "    print(row)"
   ]
  },
  {
   "cell_type": "code",
   "execution_count": 27,
   "id": "58d4ea62-5c03-47bd-be98-8fbe73266355",
   "metadata": {},
   "outputs": [
    {
     "name": "stdout",
     "output_type": "stream",
     "text": [
      "['김하나', 'English', 100]\n",
      "['김하나', 'Math', 80]\n",
      "['임하나', 'English', 70]\n",
      "['임하나', 'Math', 100]\n",
      "['김갑돌', 'English', 82.3]\n",
      "['김갑돌', 'Math', 98.5]\n",
      "김하나 Math 80\n",
      "임하나 English 70\n",
      "임하나 Math 100\n",
      "김갑돌 English 82.3\n",
      "김갑돌 Math 98.5\n"
     ]
    }
   ],
   "source": [
    "\n",
    "marks=marks[1:]\n",
    "for row in marks:\n",
    "    print(row)\n",
    "\n",
    "marks=marks[1:]\n",
    "for row in marks:\n",
    "    print(row[0],row[1],row[2])\n",
    "    "
   ]
  },
  {
   "cell_type": "code",
   "execution_count": 33,
   "id": "2c579a71-9468-42dc-b8a9-18a2146b84e9",
   "metadata": {},
   "outputs": [],
   "source": [
    "#plus 자리수 제한은 이런식 앞쪽 %1.f %2.f에 주목\n",
    "\n",
    "#print(\"Math: %.1f English: %.2f\" % (float(mathSum/mathCount),float(englishSum/englishCount)))"
   ]
  },
  {
   "cell_type": "markdown",
   "id": "26adad58-78dc-4255-8985-cf07a3e4fb96",
   "metadata": {},
   "source": []
  },
  {
   "cell_type": "code",
   "execution_count": 34,
   "id": "efc4c4c8-821b-4e11-9701-4df444381566",
   "metadata": {},
   "outputs": [],
   "source": [
    "#dictionary"
   ]
  },
  {
   "cell_type": "code",
   "execution_count": 35,
   "id": "922f2844-2e2b-45ab-85fd-0b80478263d3",
   "metadata": {},
   "outputs": [],
   "source": [
    "room={'jsl':\"G405\", 'bigData':\"G307\"}"
   ]
  },
  {
   "cell_type": "code",
   "execution_count": 36,
   "id": "47d80092-6103-46be-aaca-98fe9517775d",
   "metadata": {},
   "outputs": [
    {
     "name": "stdout",
     "output_type": "stream",
     "text": [
      "dict_values(['G405', 'G307'])\n",
      "dict_keys(['jsl', 'bigData'])\n"
     ]
    }
   ],
   "source": [
    "print(room.values())\n",
    "print(room.keys())"
   ]
  },
  {
   "cell_type": "code",
   "execution_count": 37,
   "id": "46d66e60-8f92-4f2c-b569-7606cf6c9ad9",
   "metadata": {},
   "outputs": [
    {
     "name": "stdout",
     "output_type": "stream",
     "text": [
      "jsl room:  G405\n"
     ]
    }
   ],
   "source": [
    "print(\"jsl room: \",room['jsl'])"
   ]
  },
  {
   "cell_type": "code",
   "execution_count": null,
   "id": "b410758d-a0bc-4ff1-9727-2f182d0f09fc",
   "metadata": {},
   "outputs": [],
   "source": []
  },
  {
   "cell_type": "code",
   "execution_count": null,
   "id": "463b43e3-af70-432b-b320-4282abde872e",
   "metadata": {},
   "outputs": [],
   "source": []
  }
 ],
 "metadata": {
  "kernelspec": {
   "display_name": "Python 3.9",
   "language": "python",
   "name": "python39"
  },
  "language_info": {
   "codemirror_mode": {
    "name": "ipython",
    "version": 3
   },
   "file_extension": ".py",
   "mimetype": "text/x-python",
   "name": "python",
   "nbconvert_exporter": "python",
   "pygments_lexer": "ipython3",
   "version": "3.9.1"
  }
 },
 "nbformat": 4,
 "nbformat_minor": 5
}
