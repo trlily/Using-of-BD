{
 "cells": [
  {
   "cell_type": "markdown",
   "id": "43fd1588-0c08-4773-8750-b70dcb7dbaf9",
   "metadata": {},
   "source": [
    "# 현재 작업 경로 알아보기"
   ]
  },
  {
   "cell_type": "code",
   "execution_count": 38,
   "id": "683b9987-4801-4920-b178-540393e3d7e2",
   "metadata": {},
   "outputs": [
    {
     "data": {
      "text/plain": [
       "'C:\\\\Users\\\\rkdus3696'"
      ]
     },
     "execution_count": 38,
     "metadata": {},
     "output_type": "execute_result"
    }
   ],
   "source": [
    "%pwd"
   ]
  },
  {
   "cell_type": "markdown",
   "id": "d598abc8-cff9-4ed6-a385-54c465423df2",
   "metadata": {},
   "source": [
    "#파일 작성"
   ]
  },
  {
   "cell_type": "code",
   "execution_count": 40,
   "id": "eda06931-c884-41e8-945e-93c7ccc63d6b",
   "metadata": {},
   "outputs": [
    {
     "name": "stdout",
     "output_type": "stream",
     "text": [
      "Writing hi.txt\n"
     ]
    }
   ],
   "source": [
    "%%writefile hi.txt\n",
    "hello\n",
    "# hi 라는 txt 파일에 hello가 적혀있을 것\n",
    "#형식 매우 중요하니까 중간에 한글을 넣거나 다른 문자를 넣는 행위는 자제해야한다\n",
    "#정해진 틀이 엄격한 편"
   ]
  },
  {
   "cell_type": "code",
   "execution_count": 41,
   "id": "77f26e0d-68a8-4b1b-b3e0-c1ea84638323",
   "metadata": {},
   "outputs": [
    {
     "name": "stdout",
     "output_type": "stream",
     "text": [
      "Overwriting hi.txt\n"
     ]
    }
   ],
   "source": [
    "%%writefile hi.txt\n",
    "hello cat"
   ]
  },
  {
   "cell_type": "code",
   "execution_count": 42,
   "id": "d2b93c62-1ea2-4016-860f-2b406ec44123",
   "metadata": {},
   "outputs": [],
   "source": [
    "#overwriting 한 것으로 파일을 다시 열면 cat이 추가되어 있을 것이다\n",
    "#이것도 조심해야 한다 #표시된 것도 같이 메모되기 때문이다"
   ]
  },
  {
   "cell_type": "code",
   "execution_count": 43,
   "id": "ee80b957-e964-4bd8-9443-7973c2890a88",
   "metadata": {},
   "outputs": [
    {
     "name": "stdout",
     "output_type": "stream",
     "text": [
      " C 드라이브의 볼륨에는 이름이 없습니다.\n",
      " 볼륨 일련 번호: 2A41-5FED\n",
      "\n",
      " C:\\Users\\rkdus3696 디렉터리\n",
      "\n",
      "2024-09-22  오후 11:14                11 hi.txt\n",
      "               1개 파일                  11 바이트\n",
      "               0개 디렉터리   8,068,567,040 바이트 남음\n"
     ]
    }
   ],
   "source": [
    "!dir hi.txt"
   ]
  },
  {
   "cell_type": "code",
   "execution_count": 45,
   "id": "de74887e-e34e-49f1-94d3-6242c08375e0",
   "metadata": {},
   "outputs": [],
   "source": [
    "#dir은 현재 위치에 있는 파일 리스트를 알려준다\n",
    "#!는 명령프롬포트에서 쓰는 것과 같은 역할을 한다"
   ]
  },
  {
   "cell_type": "markdown",
   "id": "ffba21d2-f731-4e5a-b950-9abd5ca5e22a",
   "metadata": {},
   "source": [
    "#프로그램 실행"
   ]
  },
  {
   "cell_type": "code",
   "execution_count": 46,
   "id": "091bba2b-eaef-4ee6-b7d5-682586b304a5",
   "metadata": {},
   "outputs": [
    {
     "name": "stdout",
     "output_type": "stream",
     "text": [
      "Writing myRead.py\n"
     ]
    }
   ],
   "source": [
    "%%writefile myRead.py\n",
    "import os\n",
    "\n",
    "print(os.getcwd())\n",
    "f=open('myRead.py','r')\n",
    "lineNum=0\n",
    "for line in f.readlines():\n",
    "    lineNum+=1\n",
    "    print(lineNum,\"-\",line)\n",
    "f.close()"
   ]
  },
  {
   "cell_type": "markdown",
   "id": "4de5be8a-5a2b-4377-8660-c48f89f4784e",
   "metadata": {},
   "source": [
    "\t현재 작업디렉토리 출력\n",
    "open(파일명,모드)\t파일을 읽기 용도로 열기\n",
    "\t파일에서 읽기\n",
    "lineNum = 0\t줄 수를 출력하기 위해 초기화\n",
    "\t줄 수, 한 줄씩 출력하기\n",
    "\t파일 닫기"
   ]
  },
  {
   "cell_type": "code",
   "execution_count": 48,
   "id": "acbf7f06-a4b8-4749-8164-3cbf3d48256f",
   "metadata": {},
   "outputs": [
    {
     "name": "stdout",
     "output_type": "stream",
     "text": [
      " C 드라이브의 볼륨에는 이름이 없습니다.\n",
      " 볼륨 일련 번호: 2A41-5FED\n",
      "\n",
      " C:\\Users\\rkdus3696 디렉터리\n",
      "\n",
      "2024-09-22  오후 11:17               153 myRead.py\n",
      "               1개 파일                 153 바이트\n",
      "               0개 디렉터리   8,065,716,224 바이트 남음\n"
     ]
    }
   ],
   "source": [
    "!dir myRead.py"
   ]
  },
  {
   "cell_type": "markdown",
   "id": "da57b9b3-3869-4ab9-91bd-edd155aca25d",
   "metadata": {},
   "source": [
    "읽어오기"
   ]
  },
  {
   "cell_type": "code",
   "execution_count": 49,
   "id": "29bb77fa-3cad-4e02-9ecd-940dde296742",
   "metadata": {},
   "outputs": [
    {
     "name": "stdout",
     "output_type": "stream",
     "text": [
      "C:\\Users\\rkdus3696\n",
      "1 - import os\n",
      "\n",
      "2 - \n",
      "\n",
      "3 - print(os.getcwd())\n",
      "\n",
      "4 - f=open('myRead.py','r')\n",
      "\n",
      "5 - lineNum=0\n",
      "\n",
      "6 - for line in f.readlines():\n",
      "\n",
      "7 -     lineNum+=1\n",
      "\n",
      "8 -     print(lineNum,\"-\",line)\n",
      "\n",
      "9 - f.close()\n",
      "\n"
     ]
    }
   ],
   "source": [
    "%run myRead.py"
   ]
  },
  {
   "cell_type": "code",
   "execution_count": 50,
   "id": "0aa38995-2d69-433b-a07f-c4163aa2b0f6",
   "metadata": {},
   "outputs": [],
   "source": [
    "#같은 방법으로 명령프롬포트에서 실행하기"
   ]
  },
  {
   "cell_type": "code",
   "execution_count": 51,
   "id": "2d8f6c0f-7cc2-418c-b68d-8122bba7914d",
   "metadata": {},
   "outputs": [
    {
     "name": "stdout",
     "output_type": "stream",
     "text": [
      "C:\\Users\\rkdus3696\n",
      "1 - import os\n",
      "\n",
      "2 - \n",
      "\n",
      "3 - print(os.getcwd())\n",
      "\n",
      "4 - f=open('myRead.py','r')\n",
      "\n",
      "5 - lineNum=0\n",
      "\n",
      "6 - for line in f.readlines():\n",
      "\n",
      "7 -     lineNum+=1\n",
      "\n",
      "8 -     print(lineNum,\"-\",line)\n",
      "\n",
      "9 - f.close()\n",
      "\n"
     ]
    }
   ],
   "source": [
    "!python myRead.py"
   ]
  },
  {
   "cell_type": "markdown",
   "id": "e8b4438c-46c6-4a40-aff3-0b6fe13c1cee",
   "metadata": {},
   "source": [
    "#numpy 배열 다루기"
   ]
  },
  {
   "cell_type": "code",
   "execution_count": 53,
   "id": "1c3a3546-8c0b-4a65-ab0e-73f1a785e1fa",
   "metadata": {},
   "outputs": [
    {
     "name": "stdout",
     "output_type": "stream",
     "text": [
      "[0 1 2]\n"
     ]
    }
   ],
   "source": [
    "import numpy as np\n",
    "\n",
    "a = np.array([0, 1, 2])\n",
    "print(a) \n",
    "\n",
    "# numpy는 배열 프로그래밍을 지원하는 것, 그리고 이때의 데이터 형태가 array(배열) 형태인 것다다"
   ]
  },
  {
   "cell_type": "markdown",
   "id": "5750243c-2a88-49ee-8671-70a26a0a0a39",
   "metadata": {},
   "source": [
    "배열을 생성할 수 있는 다양한 함수들:\n",
    "- np.arange(start, stop, step): 주어진 범위 내에서 일정한 간격으로 값을 생성\n",
    "- np.zeros(shape): 주어진 형태(shape)와 데이터 타입을 가지는 0으로 채워진 배열\n",
    "- np.ones(shape): 주어진 형태(shape)와 데이터 타입을 가지는 1로 채워진 배열\n",
    "- np.empty(): np.ones()와 비슷하지만, 초기화되지 않음(즉, 임의의 값들로 채워짐).\n",
    "- np.linespace(start, stop, n): 등간격 배열\n",
    "- np.logspace(start, stop, n): 로그 스케일의 등간격 배열\n",
    "- np.eye(N): 주어진 크기의 단위 행렬(identity matrix)을 생성"
   ]
  },
  {
   "cell_type": "code",
   "execution_count": 54,
   "id": "d7cf9170-b3f9-42d0-be43-70b0725ec886",
   "metadata": {},
   "outputs": [
    {
     "name": "stdout",
     "output_type": "stream",
     "text": [
      "[0 1 2 3 4 5 6 7 8 9]\n",
      "[[0. 0. 0.]\n",
      " [0. 0. 0.]]\n",
      "[[1. 1. 1.]\n",
      " [1. 1. 1.]]\n",
      "empty: [6.01346953e-154 8.94213159e+130] empty3x3float: [[0.00000000e+000 0.00000000e+000 0.00000000e+000]\n",
      " [0.00000000e+000 0.00000000e+000 8.59674224e-321]\n",
      " [8.34445137e-308 2.14321575e-312 2.29178686e-312]]\n",
      "linspace: [ 0.   2.5  5.   7.5 10. ]\n",
      "logspace: [1.00000000e+00 1.77827941e+01 3.16227766e+02 5.62341325e+03\n",
      " 1.00000000e+05]\n",
      "[[1. 0. 0. 0.]\n",
      " [0. 1. 0. 0.]\n",
      " [0. 0. 1. 0.]\n",
      " [0. 0. 0. 1.]]\n"
     ]
    }
   ],
   "source": [
    "c = np.arange(10)\n",
    "print(c)  # [0 1 2 3 4 5 6 7 8 9]\n",
    "\n",
    "d = np.zeros((2, 3))\n",
    "print(d)\n",
    "# [[0. 0. 0.]\n",
    "#  [0. 0. 0.]]\n",
    "\n",
    "e = np.ones((2, 3))\n",
    "print(e)\n",
    "# [[1. 1. 1.]\n",
    "#  [1. 1. 1.]]\n",
    "\n",
    "print(f\"empty: {np.empty(2)} empty3x3float: {np.empty((3, 3), dtype=float)}\")\n",
    "\n",
    "print(f\"linspace: {np.linspace(0, 10, num=5)}\")\n",
    "print(f\"logspace: {np.logspace(0, 5, 5)}\") # 10의 0 ~ 5 승 5개\n",
    "\n",
    "f = np.eye(4)\n",
    "print(f)"
   ]
  },
  {
   "cell_type": "code",
   "execution_count": 55,
   "id": "6867e6e1-79ce-4c35-8750-bcc23b81cd08",
   "metadata": {},
   "outputs": [],
   "source": [
    "#ndim 차원\n",
    "#size 길이\n",
    "#shape 행, 열의 모양"
   ]
  },
  {
   "cell_type": "code",
   "execution_count": 56,
   "id": "76a97c03-16f5-4a8c-9a1b-37a9a430baee",
   "metadata": {},
   "outputs": [
    {
     "name": "stdout",
     "output_type": "stream",
     "text": [
      "shape:(3,) size:3\n",
      "shape: (2, 3) ndim: 2\n",
      "(2, 2, 3)\n"
     ]
    }
   ],
   "source": [
    "# 1차원 배열\n",
    "a = np.array([1, 2, 3])\n",
    "print(f\"shape:{a.shape} size:{a.size}\")  # (3,)\n",
    "\n",
    "# 2차원 배열\n",
    "b = np.array([[1, 2, 3], [4, 5, 6]])\n",
    "print(f\"shape: {b.shape} ndim: {b.ndim}\")  # shape: (2, 3) ndim: 2\n",
    "\n",
    "# 다차원 배열\n",
    "c = np.array([[[1, 2, 3], [4, 5, 6]], [[7, 8, 9], [10, 11, 12]]])\n",
    "print(c.shape)  # (2, 2, 3)"
   ]
  },
  {
   "cell_type": "code",
   "execution_count": 57,
   "id": "3f76dc01-6d21-4161-b222-77a5398d2599",
   "metadata": {},
   "outputs": [
    {
     "name": "stdout",
     "output_type": "stream",
     "text": [
      "float64\n",
      "int32\n",
      "float64\n",
      "complex128\n"
     ]
    }
   ],
   "source": [
    "# 정수형 배열\n",
    "a2=np.array([3,4,5], float)\n",
    "print(a2.dtype) #float64\n",
    "\n",
    "int_array = np.array([1, 2, 3], dtype=np.int32)\n",
    "print(int_array.dtype)  # int32\n",
    "\n",
    "# 실수형 배열\n",
    "float_array = np.array([1.0, 2.0, 3.0], dtype=np.float64)\n",
    "print(float_array.dtype)  # float64\n",
    "\n",
    "# 복소수형 배열\n",
    "complex_array = np.array([1+2j, 3+4j], dtype=np.complex128)\n",
    "print(complex_array.dtype)  # complex128"
   ]
  },
  {
   "cell_type": "code",
   "execution_count": 58,
   "id": "23c60a81-b572-471b-a730-34c7dd51148a",
   "metadata": {},
   "outputs": [
    {
     "name": "stdout",
     "output_type": "stream",
     "text": [
      "[1. 4.]\n",
      "[2. 5.]\n",
      "[3. 6.]\n"
     ]
    }
   ],
   "source": [
    "import numpy as np\n",
    "\n",
    "dtype_example = np.dtype({'names': ['A', 'B', 'C'], 'formats': ['<f4', '|f4', '|f4']})\n",
    "\n",
    "data = np.array([(1.0, 2.0, 3.0), (4.0, 5.0, 6.0)], dtype=dtype_example)\n",
    "\n",
    "print(data['A'])  # [1. 4.]\n",
    "print(data['B'])  # [2. 5.]\n",
    "print(data['C'])  # [3. 6.]"
   ]
  },
  {
   "cell_type": "code",
   "execution_count": 59,
   "id": "ea597fd3-ce8c-478a-9e16-19bcb3f5e833",
   "metadata": {},
   "outputs": [
    {
     "name": "stdout",
     "output_type": "stream",
     "text": [
      "[[1. 1. 1.]\n",
      " [1. 1. 1.]\n",
      " [1. 1. 1.]]\n",
      "1.0\n"
     ]
    }
   ],
   "source": [
    "import numpy as np\n",
    "\n",
    "# 3x3 배열 생성\n",
    "f = np.ones((3, 3))\n",
    "print(f)\n",
    "# [[1. 1. 1.]\n",
    "#  [1. 1. 1.]\n",
    "#  [1. 1. 1.]]\n",
    "\n",
    "# 첫 번째 행, 두 번째 열의 요소 접근\n",
    "print(f[0][1])  # 1.0"
   ]
  },
  {
   "cell_type": "code",
   "execution_count": 60,
   "id": "1f8602f7-0cb1-431c-ada2-614c578a11cb",
   "metadata": {},
   "outputs": [
    {
     "name": "stdout",
     "output_type": "stream",
     "text": [
      "[1. 1. 1.]\n",
      "[1. 1.]\n",
      "[[1. 1. 1.]\n",
      " [1. 1. 1.]]\n"
     ]
    }
   ],
   "source": [
    "print(f[0])  # [1. 1. 1.] 첫 번째 행 전체를 가져오기\n",
    "\n",
    "print(f[0][:2])  # [1. 1.] 첫 번째 행의 첫 두 요소를 가져오기\n",
    "\n",
    "\n",
    "print(f[:2]) # 첫 두 행을 가져오기\n",
    "# [[1. 1. 1.]\n",
    "#  [1. 1. 1.]]"
   ]
  },
  {
   "cell_type": "code",
   "execution_count": 63,
   "id": "b14a9984-1976-44d8-b694-240b5bdf3536",
   "metadata": {},
   "outputs": [],
   "source": [
    "# 나머지 :: % 계산\n",
    "# numpy 배열은 같은 위치의 요소들끼리 항목별 계산 elementwise operations 가능 등등등..."
   ]
  },
  {
   "cell_type": "code",
   "execution_count": 64,
   "id": "c32d11f2-04ad-4db5-a5a3-4b4ee4f068c4",
   "metadata": {},
   "outputs": [
    {
     "name": "stdout",
     "output_type": "stream",
     "text": [
      "15.0\n",
      "120.0\n",
      "15.0\n",
      "120.0\n",
      "0\n",
      "4\n",
      "sum0:  [5 7 9]\n",
      "sum1:  [ 6 15]\n",
      "평균0:  [2.5 3.5 4.5]\n",
      "평균1:  [2. 5.]\n",
      "min0:  [1 2 3]\n",
      "min1:  [3 6]\n"
     ]
    }
   ],
   "source": [
    "v = np.array([1, 2, 3, 4, 5], float)\n",
    "\n",
    "print(v.sum())      # 합계: 15.0\n",
    "print(v.prod())     # 곱: 120.0\n",
    "\n",
    "print(np.sum(v))    # 합계: 15.0\n",
    "print(np.prod(v))   # 곱: 120.0\n",
    "\n",
    "print(v.argmin())   # 최소값의 인덱스: 0\n",
    "print(v.argmax())   # 최대값의 인덱스: 4\n",
    "\n",
    "w = np.array([[1, 2, 3], [4, 5, 6]])\n",
    "print(\"sum0: \", w.sum(axis=0)) # 행을 따라 합계 (열별 합계) [5 7 9]\n",
    "print(\"sum1: \", w.sum(axis=1)) # 열을 따라 합계 (행별 합계) [ 6 15]\n",
    "\n",
    "print(\"평균0: \", w.mean(axis=0))  # [2.5 3.5 4.5] 열에 대한 평균\n",
    "\n",
    "print(\"평균1: \", w.mean(axis=1))  # [2. 5.] 행에 대한 평균\n",
    " \n",
    "print(\"min0: \", w.min(axis=0))   # [1 2 3] 열에 대한 최솟값\n",
    "\n",
    "print(\"min1: \", w.max(axis=1))   # [3 6] 행에 대한 최댓값"
   ]
  },
  {
   "cell_type": "markdown",
   "id": "785a264f-bc40-4d46-a751-371f579351c7",
   "metadata": {},
   "source": [
    "#무작위수 생성하기"
   ]
  },
  {
   "cell_type": "code",
   "execution_count": 65,
   "id": "7e3c31a0-476b-4b4e-9844-0b30ea5f5607",
   "metadata": {},
   "outputs": [
    {
     "name": "stdout",
     "output_type": "stream",
     "text": [
      "[0.42514271 0.30615149 0.17619986 0.43249563 0.42561686 0.3837179\n",
      " 0.25932203 0.51525816 0.52510937 0.68390639]\n",
      "3\n",
      "160.1654329699363\n"
     ]
    }
   ],
   "source": [
    "print(np.random.rand(10)) # 0에서 1 사이의 균등 분포를 따르는 무작위 수\n",
    "\n",
    "print(np.random.randint(0, 9)) #5\n",
    "\n",
    "print(np.random.normal(170,10)) # 평균 170, 표준편차 10을 갖는 정규 분포에서 무작위 수 생성"
   ]
  },
  {
   "cell_type": "markdown",
   "id": "bb1875e8-17b0-46a7-94f8-69c52b375b40",
   "metadata": {},
   "source": [
    "#배열과 반복문"
   ]
  },
  {
   "cell_type": "code",
   "execution_count": 66,
   "id": "b09dd616-3e24-44e7-a66a-a465a9564cbf",
   "metadata": {},
   "outputs": [
    {
     "name": "stdout",
     "output_type": "stream",
     "text": [
      "sumFor: 5050\n",
      "sumnp: 5050\n",
      "sumnp: 5050\n"
     ]
    }
   ],
   "source": [
    "x=range(1,101)\n",
    "total=0\n",
    "\n",
    "for i in x:\n",
    "    total+=i\n",
    "\n",
    "\n",
    "print(f\"sumFor: {total}\") #5050\n",
    "print(f\"sumnp: {np.sum(x)}\") #5050\n",
    "print(f\"sumnp: {np.array(x).sum()}\") #5050"
   ]
  },
  {
   "cell_type": "code",
   "execution_count": 67,
   "id": "19589f70-8e54-4bf4-ae27-4f5f87095a4d",
   "metadata": {},
   "outputs": [],
   "source": [
    "#np.dot() => 파이썬의 내적 계산"
   ]
  },
  {
   "cell_type": "code",
   "execution_count": 69,
   "id": "03c21227-f083-417e-9f01-10eb095ca9cc",
   "metadata": {},
   "outputs": [
    {
     "name": "stdout",
     "output_type": "stream",
     "text": [
      "2520\n",
      "135\n"
     ]
    }
   ],
   "source": [
    "import numpy as np\n",
    "print(np.prod([3,4,5,6,7])) #2520 *내부 elements의 곱\n",
    "print(np.dot([3,4,5,6,7],[3,4,5,6,7])) #135 = 3x3 + 4x4 + 5x5 + 6x6 + 7x7"
   ]
  },
  {
   "cell_type": "code",
   "execution_count": 73,
   "id": "e0470903-d3e6-4cfa-ab49-71b02a630923",
   "metadata": {},
   "outputs": [
    {
     "name": "stdout",
     "output_type": "stream",
     "text": [
      "sumSqFor:338350\n",
      "sumSqdot:338350\n",
      "sumSqnp:338350.0\n"
     ]
    }
   ],
   "source": [
    "x=range(1,101)\n",
    "total=0\n",
    "for i in x:\n",
    "    total+=i**2\n",
    "\n",
    "print(f\"sumSqFor:{total}\") # 338350\n",
    "print(f\"sumSqdot:{np.dot(x,x)}\") #338350\n",
    "\n",
    "_x=np.linspace(1, 100, num=100)\n",
    "print(f\"sumSqnp:{np.sum(_x*_x)}\") #338350"
   ]
  },
  {
   "cell_type": "code",
   "execution_count": 74,
   "id": "62ff97ee-1210-46b9-9dcb-251619ae1e44",
   "metadata": {},
   "outputs": [],
   "source": [
    "import numpy as np\n",
    "\n",
    "y = np.array([[6, 8, 4, 5, 3, 4], \n",
    "              [8, 12, 9, 13, 6, 8], \n",
    "              [13, 9, 11, 8, 7, 12]])"
   ]
  },
  {
   "cell_type": "code",
   "execution_count": 75,
   "id": "38b2476a-a8ad-4cc2-a4cf-812576d1ead3",
   "metadata": {},
   "outputs": [
    {
     "name": "stdout",
     "output_type": "stream",
     "text": [
      "[9.  9.7 8.  8.7 5.3 8. ]\n",
      "[ 5.  9. 10.]\n",
      "[ 9. 10.  8.  9.  5.  8.]\n"
     ]
    }
   ],
   "source": [
    "np.set_printoptions(precision=1) # 소수점 이하 자릿수를 1자리로 설정\n",
    "print(y.mean(axis=0))  # 각 열의 평균(axis=0)\n",
    "np.set_printoptions(precision=0) # 소수점 이하 자릿수를 0으로 설정\n",
    "print(y.mean(axis=1)) # 각 행의 평균(axis=1)\n",
    "np.set_printoptions(suppress=True) # 지수 표기법을 사용하지 않는다.\n",
    "print(y.mean(axis=0)) # 각 행의 평균(axis=1)\n",
    "np.set_printoptions(precision=2)"
   ]
  },
  {
   "cell_type": "markdown",
   "id": "ba58534f-11a8-458b-8850-fa2b0cb7b8bd",
   "metadata": {},
   "source": [
    "## matrix 는 np.arry에서 나타낼 수 있는 data중 2차원 data를 표현하는 경우 사용 가능\n",
    "# == 2d array"
   ]
  },
  {
   "cell_type": "code",
   "execution_count": 82,
   "id": "da147826-4ca5-4538-9bd3-f54324776f8b",
   "metadata": {},
   "outputs": [
    {
     "name": "stdout",
     "output_type": "stream",
     "text": [
      "[[1 2]\n",
      " [3 4]]\n",
      "[[5 6]\n",
      " [7 8]]\n",
      "[[19 22]\n",
      " [43 50]]\n"
     ]
    }
   ],
   "source": [
    "m1 = np.asmatrix([[1, 2], [3, 4]])\n",
    "m2 = np.asmatrix([[5, 6], [7, 8]])\n",
    "\n",
    "print(m1)\n",
    "print(m2)\n",
    "print(m1 * m2) # np.matrix 사용\n",
    "\n",
    "##참고 ** np.mat은 이 버전에서 쓰이진 않는다 여기서는 np.asmatrix 이렇게 쓰인다 "
   ]
  },
  {
   "cell_type": "code",
   "execution_count": null,
   "id": "1bffbd25-4c7d-4f93-aa30-483433b98a70",
   "metadata": {},
   "outputs": [],
   "source": []
  }
 ],
 "metadata": {
  "kernelspec": {
   "display_name": "Python 3.9",
   "language": "python",
   "name": "python39"
  },
  "language_info": {
   "codemirror_mode": {
    "name": "ipython",
    "version": 3
   },
   "file_extension": ".py",
   "mimetype": "text/x-python",
   "name": "python",
   "nbconvert_exporter": "python",
   "pygments_lexer": "ipython3",
   "version": "3.9.1"
  }
 },
 "nbformat": 4,
 "nbformat_minor": 5
}
